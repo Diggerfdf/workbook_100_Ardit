{
 "cells": [
  {
   "cell_type": "code",
   "execution_count": 1,
   "metadata": {},
   "outputs": [],
   "source": [
    "import pandas as pd"
   ]
  },
  {
   "cell_type": "code",
   "execution_count": 2,
   "metadata": {},
   "outputs": [],
   "source": [
    "data = pd.read_csv(\"./Files/countries-by-area.txt\")"
   ]
  },
  {
   "cell_type": "code",
   "execution_count": 6,
   "metadata": {},
   "outputs": [
    {
     "data": {
      "text/html": [
       "<div>\n",
       "<style scoped>\n",
       "    .dataframe tbody tr th:only-of-type {\n",
       "        vertical-align: middle;\n",
       "    }\n",
       "\n",
       "    .dataframe tbody tr th {\n",
       "        vertical-align: top;\n",
       "    }\n",
       "\n",
       "    .dataframe thead th {\n",
       "        text-align: right;\n",
       "    }\n",
       "</style>\n",
       "<table border=\"1\" class=\"dataframe\">\n",
       "  <thead>\n",
       "    <tr style=\"text-align: right;\">\n",
       "      <th></th>\n",
       "      <th>rank</th>\n",
       "      <th>country</th>\n",
       "      <th>area_sqkm</th>\n",
       "      <th>population_2013</th>\n",
       "    </tr>\n",
       "  </thead>\n",
       "  <tbody>\n",
       "    <tr>\n",
       "      <th>0</th>\n",
       "      <td>1</td>\n",
       "      <td>Russia</td>\n",
       "      <td>17075200</td>\n",
       "      <td>142833689</td>\n",
       "    </tr>\n",
       "    <tr>\n",
       "      <th>1</th>\n",
       "      <td>2</td>\n",
       "      <td>Canada</td>\n",
       "      <td>9984670</td>\n",
       "      <td>35181704</td>\n",
       "    </tr>\n",
       "    <tr>\n",
       "      <th>2</th>\n",
       "      <td>3</td>\n",
       "      <td>United States of America</td>\n",
       "      <td>9826630</td>\n",
       "      <td>320050716</td>\n",
       "    </tr>\n",
       "    <tr>\n",
       "      <th>3</th>\n",
       "      <td>4</td>\n",
       "      <td>China</td>\n",
       "      <td>9596960</td>\n",
       "      <td>1385566537</td>\n",
       "    </tr>\n",
       "    <tr>\n",
       "      <th>4</th>\n",
       "      <td>5</td>\n",
       "      <td>Brazil</td>\n",
       "      <td>8511965</td>\n",
       "      <td>200361925</td>\n",
       "    </tr>\n",
       "  </tbody>\n",
       "</table>\n",
       "</div>"
      ],
      "text/plain": [
       "   rank                   country  area_sqkm  population_2013\n",
       "0     1                    Russia   17075200        142833689\n",
       "1     2                    Canada    9984670         35181704\n",
       "2     3  United States of America    9826630        320050716\n",
       "3     4                     China    9596960       1385566537\n",
       "4     5                    Brazil    8511965        200361925"
      ]
     },
     "execution_count": 6,
     "metadata": {},
     "output_type": "execute_result"
    }
   ],
   "source": [
    "data.head()"
   ]
  },
  {
   "cell_type": "code",
   "execution_count": 13,
   "metadata": {},
   "outputs": [],
   "source": [
    "data['density'] = data['population_2013'] / data['area_sqkm']"
   ]
  },
  {
   "cell_type": "code",
   "execution_count": 14,
   "metadata": {},
   "outputs": [
    {
     "data": {
      "text/html": [
       "<div>\n",
       "<style scoped>\n",
       "    .dataframe tbody tr th:only-of-type {\n",
       "        vertical-align: middle;\n",
       "    }\n",
       "\n",
       "    .dataframe tbody tr th {\n",
       "        vertical-align: top;\n",
       "    }\n",
       "\n",
       "    .dataframe thead th {\n",
       "        text-align: right;\n",
       "    }\n",
       "</style>\n",
       "<table border=\"1\" class=\"dataframe\">\n",
       "  <thead>\n",
       "    <tr style=\"text-align: right;\">\n",
       "      <th></th>\n",
       "      <th>rank</th>\n",
       "      <th>country</th>\n",
       "      <th>area_sqkm</th>\n",
       "      <th>population_2013</th>\n",
       "      <th>pop_density</th>\n",
       "      <th>density</th>\n",
       "    </tr>\n",
       "  </thead>\n",
       "  <tbody>\n",
       "    <tr>\n",
       "      <th>0</th>\n",
       "      <td>1</td>\n",
       "      <td>Russia</td>\n",
       "      <td>17075200</td>\n",
       "      <td>142833689</td>\n",
       "      <td>0.119546</td>\n",
       "      <td>8.364979</td>\n",
       "    </tr>\n",
       "    <tr>\n",
       "      <th>1</th>\n",
       "      <td>2</td>\n",
       "      <td>Canada</td>\n",
       "      <td>9984670</td>\n",
       "      <td>35181704</td>\n",
       "      <td>0.283803</td>\n",
       "      <td>3.523572</td>\n",
       "    </tr>\n",
       "    <tr>\n",
       "      <th>2</th>\n",
       "      <td>3</td>\n",
       "      <td>United States of America</td>\n",
       "      <td>9826630</td>\n",
       "      <td>320050716</td>\n",
       "      <td>0.030703</td>\n",
       "      <td>32.569733</td>\n",
       "    </tr>\n",
       "    <tr>\n",
       "      <th>3</th>\n",
       "      <td>4</td>\n",
       "      <td>China</td>\n",
       "      <td>9596960</td>\n",
       "      <td>1385566537</td>\n",
       "      <td>0.006926</td>\n",
       "      <td>144.375567</td>\n",
       "    </tr>\n",
       "    <tr>\n",
       "      <th>4</th>\n",
       "      <td>5</td>\n",
       "      <td>Brazil</td>\n",
       "      <td>8511965</td>\n",
       "      <td>200361925</td>\n",
       "      <td>0.042483</td>\n",
       "      <td>23.538857</td>\n",
       "    </tr>\n",
       "  </tbody>\n",
       "</table>\n",
       "</div>"
      ],
      "text/plain": [
       "   rank                   country  area_sqkm  population_2013  pop_density  \\\n",
       "0     1                    Russia   17075200        142833689     0.119546   \n",
       "1     2                    Canada    9984670         35181704     0.283803   \n",
       "2     3  United States of America    9826630        320050716     0.030703   \n",
       "3     4                     China    9596960       1385566537     0.006926   \n",
       "4     5                    Brazil    8511965        200361925     0.042483   \n",
       "\n",
       "      density  \n",
       "0    8.364979  \n",
       "1    3.523572  \n",
       "2   32.569733  \n",
       "3  144.375567  \n",
       "4   23.538857  "
      ]
     },
     "execution_count": 14,
     "metadata": {},
     "output_type": "execute_result"
    }
   ],
   "source": [
    "data.head()"
   ]
  },
  {
   "cell_type": "code",
   "execution_count": 15,
   "metadata": {},
   "outputs": [
    {
     "data": {
      "text/html": [
       "<div>\n",
       "<style scoped>\n",
       "    .dataframe tbody tr th:only-of-type {\n",
       "        vertical-align: middle;\n",
       "    }\n",
       "\n",
       "    .dataframe tbody tr th {\n",
       "        vertical-align: top;\n",
       "    }\n",
       "\n",
       "    .dataframe thead th {\n",
       "        text-align: right;\n",
       "    }\n",
       "</style>\n",
       "<table border=\"1\" class=\"dataframe\">\n",
       "  <thead>\n",
       "    <tr style=\"text-align: right;\">\n",
       "      <th></th>\n",
       "      <th>rank</th>\n",
       "      <th>country</th>\n",
       "      <th>area_sqkm</th>\n",
       "      <th>population_2013</th>\n",
       "      <th>pop_density</th>\n",
       "      <th>density</th>\n",
       "    </tr>\n",
       "  </thead>\n",
       "  <tbody>\n",
       "    <tr>\n",
       "      <th>6</th>\n",
       "      <td>7</td>\n",
       "      <td>India</td>\n",
       "      <td>3287590</td>\n",
       "      <td>1252139596</td>\n",
       "      <td>0.002626</td>\n",
       "      <td>380.868538</td>\n",
       "    </tr>\n",
       "    <tr>\n",
       "      <th>34</th>\n",
       "      <td>35</td>\n",
       "      <td>Pakistan</td>\n",
       "      <td>803940</td>\n",
       "      <td>182142594</td>\n",
       "      <td>0.004414</td>\n",
       "      <td>226.562423</td>\n",
       "    </tr>\n",
       "    <tr>\n",
       "      <th>31</th>\n",
       "      <td>32</td>\n",
       "      <td>Nigeria</td>\n",
       "      <td>923768</td>\n",
       "      <td>173615345</td>\n",
       "      <td>0.005321</td>\n",
       "      <td>187.942584</td>\n",
       "    </tr>\n",
       "    <tr>\n",
       "      <th>3</th>\n",
       "      <td>4</td>\n",
       "      <td>China</td>\n",
       "      <td>9596960</td>\n",
       "      <td>1385566537</td>\n",
       "      <td>0.006926</td>\n",
       "      <td>144.375567</td>\n",
       "    </tr>\n",
       "    <tr>\n",
       "      <th>14</th>\n",
       "      <td>15</td>\n",
       "      <td>Indonesia</td>\n",
       "      <td>1919440</td>\n",
       "      <td>249865631</td>\n",
       "      <td>0.007682</td>\n",
       "      <td>130.176318</td>\n",
       "    </tr>\n",
       "  </tbody>\n",
       "</table>\n",
       "</div>"
      ],
      "text/plain": [
       "    rank    country  area_sqkm  population_2013  pop_density     density\n",
       "6      7      India    3287590       1252139596     0.002626  380.868538\n",
       "34    35   Pakistan     803940        182142594     0.004414  226.562423\n",
       "31    32    Nigeria     923768        173615345     0.005321  187.942584\n",
       "3      4      China    9596960       1385566537     0.006926  144.375567\n",
       "14    15  Indonesia    1919440        249865631     0.007682  130.176318"
      ]
     },
     "execution_count": 15,
     "metadata": {},
     "output_type": "execute_result"
    }
   ],
   "source": [
    "data.sort_values(by = [\"density\"], ascending = False).head(5)"
   ]
  },
  {
   "cell_type": "code",
   "execution_count": 16,
   "metadata": {},
   "outputs": [
    {
     "name": "stdout",
     "output_type": "stream",
     "text": [
      "Russia\n",
      "Canada\n",
      "United States of America\n",
      "China\n",
      "Brazil\n"
     ]
    }
   ],
   "source": [
    "for index, row in data[:5].iterrows():\n",
    "    print(row[\"country\"])"
   ]
  },
  {
   "cell_type": "markdown",
   "metadata": {},
   "source": [
    "data['density'] = (data['population_2013'] / data['area_sqkm'])\n",
    " \n",
    "result = data.nlargest(5,'density')\n",
    " \n",
    "for i in result['country']:\n",
    "    print(i)"
   ]
  }
 ],
 "metadata": {
  "kernelspec": {
   "display_name": "Python 3",
   "language": "python",
   "name": "python3"
  },
  "language_info": {
   "codemirror_mode": {
    "name": "ipython",
    "version": 3
   },
   "file_extension": ".py",
   "mimetype": "text/x-python",
   "name": "python",
   "nbconvert_exporter": "python",
   "pygments_lexer": "ipython3",
   "version": "3.7.2"
  }
 },
 "nbformat": 4,
 "nbformat_minor": 2
}
